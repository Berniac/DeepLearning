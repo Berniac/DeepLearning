{
 "cells": [
  {
   "cell_type": "markdown",
   "id": "81a2fdba",
   "metadata": {},
   "source": [
    "### 1. Load the dataset into memory"
   ]
  },
  {
   "cell_type": "code",
   "execution_count": 1,
   "id": "5e957e82",
   "metadata": {},
   "outputs": [
    {
     "data": {
      "text/html": [
       "<div>\n",
       "<style scoped>\n",
       "    .dataframe tbody tr th:only-of-type {\n",
       "        vertical-align: middle;\n",
       "    }\n",
       "\n",
       "    .dataframe tbody tr th {\n",
       "        vertical-align: top;\n",
       "    }\n",
       "\n",
       "    .dataframe thead th {\n",
       "        text-align: right;\n",
       "    }\n",
       "</style>\n",
       "<table border=\"1\" class=\"dataframe\">\n",
       "  <thead>\n",
       "    <tr style=\"text-align: right;\">\n",
       "      <th></th>\n",
       "      <th>No</th>\n",
       "      <th>year</th>\n",
       "      <th>month</th>\n",
       "      <th>day</th>\n",
       "      <th>hour</th>\n",
       "      <th>PM2.5</th>\n",
       "      <th>PM10</th>\n",
       "      <th>SO2</th>\n",
       "      <th>NO2</th>\n",
       "      <th>CO</th>\n",
       "      <th>O3</th>\n",
       "      <th>TEMP</th>\n",
       "      <th>PRES</th>\n",
       "      <th>DEWP</th>\n",
       "      <th>RAIN</th>\n",
       "      <th>wd</th>\n",
       "      <th>WSPM</th>\n",
       "      <th>station</th>\n",
       "    </tr>\n",
       "  </thead>\n",
       "  <tbody>\n",
       "    <tr>\n",
       "      <th>0</th>\n",
       "      <td>1</td>\n",
       "      <td>2013</td>\n",
       "      <td>3</td>\n",
       "      <td>1</td>\n",
       "      <td>0</td>\n",
       "      <td>4.0</td>\n",
       "      <td>4.0</td>\n",
       "      <td>4.0</td>\n",
       "      <td>7.0</td>\n",
       "      <td>300.0</td>\n",
       "      <td>77.0</td>\n",
       "      <td>-0.7</td>\n",
       "      <td>1023.0</td>\n",
       "      <td>-18.8</td>\n",
       "      <td>0.0</td>\n",
       "      <td>NNW</td>\n",
       "      <td>4.4</td>\n",
       "      <td>Aotizhongxin</td>\n",
       "    </tr>\n",
       "    <tr>\n",
       "      <th>1</th>\n",
       "      <td>2</td>\n",
       "      <td>2013</td>\n",
       "      <td>3</td>\n",
       "      <td>1</td>\n",
       "      <td>1</td>\n",
       "      <td>8.0</td>\n",
       "      <td>8.0</td>\n",
       "      <td>4.0</td>\n",
       "      <td>7.0</td>\n",
       "      <td>300.0</td>\n",
       "      <td>77.0</td>\n",
       "      <td>-1.1</td>\n",
       "      <td>1023.2</td>\n",
       "      <td>-18.2</td>\n",
       "      <td>0.0</td>\n",
       "      <td>N</td>\n",
       "      <td>4.7</td>\n",
       "      <td>Aotizhongxin</td>\n",
       "    </tr>\n",
       "    <tr>\n",
       "      <th>2</th>\n",
       "      <td>3</td>\n",
       "      <td>2013</td>\n",
       "      <td>3</td>\n",
       "      <td>1</td>\n",
       "      <td>2</td>\n",
       "      <td>7.0</td>\n",
       "      <td>7.0</td>\n",
       "      <td>5.0</td>\n",
       "      <td>10.0</td>\n",
       "      <td>300.0</td>\n",
       "      <td>73.0</td>\n",
       "      <td>-1.1</td>\n",
       "      <td>1023.5</td>\n",
       "      <td>-18.2</td>\n",
       "      <td>0.0</td>\n",
       "      <td>NNW</td>\n",
       "      <td>5.6</td>\n",
       "      <td>Aotizhongxin</td>\n",
       "    </tr>\n",
       "    <tr>\n",
       "      <th>3</th>\n",
       "      <td>4</td>\n",
       "      <td>2013</td>\n",
       "      <td>3</td>\n",
       "      <td>1</td>\n",
       "      <td>3</td>\n",
       "      <td>6.0</td>\n",
       "      <td>6.0</td>\n",
       "      <td>11.0</td>\n",
       "      <td>11.0</td>\n",
       "      <td>300.0</td>\n",
       "      <td>72.0</td>\n",
       "      <td>-1.4</td>\n",
       "      <td>1024.5</td>\n",
       "      <td>-19.4</td>\n",
       "      <td>0.0</td>\n",
       "      <td>NW</td>\n",
       "      <td>3.1</td>\n",
       "      <td>Aotizhongxin</td>\n",
       "    </tr>\n",
       "    <tr>\n",
       "      <th>4</th>\n",
       "      <td>5</td>\n",
       "      <td>2013</td>\n",
       "      <td>3</td>\n",
       "      <td>1</td>\n",
       "      <td>4</td>\n",
       "      <td>3.0</td>\n",
       "      <td>3.0</td>\n",
       "      <td>12.0</td>\n",
       "      <td>12.0</td>\n",
       "      <td>300.0</td>\n",
       "      <td>72.0</td>\n",
       "      <td>-2.0</td>\n",
       "      <td>1025.2</td>\n",
       "      <td>-19.5</td>\n",
       "      <td>0.0</td>\n",
       "      <td>N</td>\n",
       "      <td>2.0</td>\n",
       "      <td>Aotizhongxin</td>\n",
       "    </tr>\n",
       "  </tbody>\n",
       "</table>\n",
       "</div>"
      ],
      "text/plain": [
       "   No  year  month  day  hour  PM2.5  PM10   SO2   NO2     CO    O3  TEMP  \\\n",
       "0   1  2013      3    1     0    4.0   4.0   4.0   7.0  300.0  77.0  -0.7   \n",
       "1   2  2013      3    1     1    8.0   8.0   4.0   7.0  300.0  77.0  -1.1   \n",
       "2   3  2013      3    1     2    7.0   7.0   5.0  10.0  300.0  73.0  -1.1   \n",
       "3   4  2013      3    1     3    6.0   6.0  11.0  11.0  300.0  72.0  -1.4   \n",
       "4   5  2013      3    1     4    3.0   3.0  12.0  12.0  300.0  72.0  -2.0   \n",
       "\n",
       "     PRES  DEWP  RAIN   wd  WSPM       station  \n",
       "0  1023.0 -18.8   0.0  NNW   4.4  Aotizhongxin  \n",
       "1  1023.2 -18.2   0.0    N   4.7  Aotizhongxin  \n",
       "2  1023.5 -18.2   0.0  NNW   5.6  Aotizhongxin  \n",
       "3  1024.5 -19.4   0.0   NW   3.1  Aotizhongxin  \n",
       "4  1025.2 -19.5   0.0    N   2.0  Aotizhongxin  "
      ]
     },
     "execution_count": 1,
     "metadata": {},
     "output_type": "execute_result"
    }
   ],
   "source": [
    "import pandas as pd\n",
    "aot = pd.read_csv(\"PRSA_Data_20130301-20170228\\PRSA_Data_Aotizhongxin_20130301-20170228.csv\", sep = ',')\n",
    "chang = pd.read_csv(\"PRSA_Data_20130301-20170228\\PRSA_Data_Changping_20130301-20170228.csv\", sep = ',')\n",
    "ding = pd.read_csv(\"PRSA_Data_20130301-20170228\\PRSA_Data_Dingling_20130301-20170228.csv\", sep = ',')\n",
    "dong = pd.read_csv(\"PRSA_Data_20130301-20170228\\PRSA_Data_Dongsi_20130301-20170228.csv\", sep = ',')\n",
    "guan = pd.read_csv(\"PRSA_Data_20130301-20170228\\PRSA_Data_Guanyuan_20130301-20170228.csv\", sep = ',')\n",
    "guch = pd.read_csv(\"PRSA_Data_20130301-20170228\\PRSA_Data_Gucheng_20130301-20170228.csv\", sep = ',')\n",
    "hua = pd.read_csv(\"PRSA_Data_20130301-20170228\\PRSA_Data_Huairou_20130301-20170228.csv\", sep = ',')\n",
    "nong = pd.read_csv(\"PRSA_Data_20130301-20170228\\PRSA_Data_Nongzhanguan_20130301-20170228.csv\", sep = ',')\n",
    "shun = pd.read_csv(\"PRSA_Data_20130301-20170228\\PRSA_Data_Shunyi_20130301-20170228.csv\", sep = ',')\n",
    "tian = pd.read_csv(\"PRSA_Data_20130301-20170228\\PRSA_Data_Tiantan_20130301-20170228.csv\", sep = ',')\n",
    "wan = pd.read_csv(\"PRSA_Data_20130301-20170228\\PRSA_Data_Wanliu_20130301-20170228.csv\", sep = ',')\n",
    "wansh = pd.read_csv(\"PRSA_Data_20130301-20170228\\PRSA_Data_Wanshouxigong_20130301-20170228.csv\", sep = ',')\n",
    "\n",
    "df = pd.concat([aot, chang, ding, dong, guan, guch, hua, nong, shun, tian, wan, wansh], axis=0)\n",
    "df.head()"
   ]
  },
  {
   "cell_type": "code",
   "execution_count": 2,
   "id": "bb9d971f",
   "metadata": {},
   "outputs": [
    {
     "data": {
      "text/plain": [
       "No         int64\n",
       "year       int64\n",
       "month      int64\n",
       "day        int64\n",
       "hour       int64\n",
       "PM2.5    float64\n",
       "PM10     float64\n",
       "SO2      float64\n",
       "NO2      float64\n",
       "CO       float64\n",
       "O3       float64\n",
       "TEMP     float64\n",
       "PRES     float64\n",
       "DEWP     float64\n",
       "RAIN     float64\n",
       "wd        object\n",
       "WSPM     float64\n",
       "dtype: object"
      ]
     },
     "execution_count": 2,
     "metadata": {},
     "output_type": "execute_result"
    }
   ],
   "source": [
    "df=df.drop('station', axis=1)\n",
    "df.dtypes"
   ]
  },
  {
   "cell_type": "markdown",
   "id": "a2e61b58",
   "metadata": {},
   "source": [
    "### 2. Clean the data and check missing values for the dataset"
   ]
  },
  {
   "cell_type": "code",
   "execution_count": 3,
   "id": "4e310f06",
   "metadata": {
    "scrolled": true
   },
   "outputs": [
    {
     "data": {
      "text/plain": [
       "No           0\n",
       "year         0\n",
       "month        0\n",
       "day          0\n",
       "hour         0\n",
       "PM2.5     8739\n",
       "PM10      6449\n",
       "SO2       9021\n",
       "NO2      12116\n",
       "CO       20701\n",
       "O3       13277\n",
       "TEMP       398\n",
       "PRES       393\n",
       "DEWP       403\n",
       "RAIN       390\n",
       "wd        1822\n",
       "WSPM       318\n",
       "dtype: int64"
      ]
     },
     "execution_count": 3,
     "metadata": {},
     "output_type": "execute_result"
    }
   ],
   "source": [
    "df.isnull().sum(axis = 0)"
   ]
  },
  {
   "cell_type": "code",
   "execution_count": 4,
   "id": "d64cfad8",
   "metadata": {},
   "outputs": [
    {
     "data": {
      "text/plain": [
       "(420768, 17)"
      ]
     },
     "execution_count": 4,
     "metadata": {},
     "output_type": "execute_result"
    }
   ],
   "source": [
    "df.shape"
   ]
  },
  {
   "cell_type": "markdown",
   "id": "cb23c1d2",
   "metadata": {},
   "source": [
    "Drop rows with missing values"
   ]
  },
  {
   "cell_type": "code",
   "execution_count": 5,
   "id": "aec5d951",
   "metadata": {},
   "outputs": [],
   "source": [
    "df.dropna(inplace=True)"
   ]
  },
  {
   "cell_type": "code",
   "execution_count": 6,
   "id": "e57550d6",
   "metadata": {},
   "outputs": [
    {
     "data": {
      "text/plain": [
       "No       0\n",
       "year     0\n",
       "month    0\n",
       "day      0\n",
       "hour     0\n",
       "PM2.5    0\n",
       "PM10     0\n",
       "SO2      0\n",
       "NO2      0\n",
       "CO       0\n",
       "O3       0\n",
       "TEMP     0\n",
       "PRES     0\n",
       "DEWP     0\n",
       "RAIN     0\n",
       "wd       0\n",
       "WSPM     0\n",
       "dtype: int64"
      ]
     },
     "execution_count": 6,
     "metadata": {},
     "output_type": "execute_result"
    }
   ],
   "source": [
    "df.isnull().sum(axis = 0)"
   ]
  },
  {
   "cell_type": "markdown",
   "id": "8a95f589",
   "metadata": {},
   "source": [
    "### 3. Convert all categorical values to numerical values"
   ]
  },
  {
   "cell_type": "code",
   "execution_count": 7,
   "id": "8dad4f58",
   "metadata": {
    "scrolled": true
   },
   "outputs": [
    {
     "data": {
      "text/html": [
       "<div>\n",
       "<style scoped>\n",
       "    .dataframe tbody tr th:only-of-type {\n",
       "        vertical-align: middle;\n",
       "    }\n",
       "\n",
       "    .dataframe tbody tr th {\n",
       "        vertical-align: top;\n",
       "    }\n",
       "\n",
       "    .dataframe thead th {\n",
       "        text-align: right;\n",
       "    }\n",
       "</style>\n",
       "<table border=\"1\" class=\"dataframe\">\n",
       "  <thead>\n",
       "    <tr style=\"text-align: right;\">\n",
       "      <th></th>\n",
       "      <th>ENE</th>\n",
       "      <th>ESE</th>\n",
       "      <th>N</th>\n",
       "      <th>NE</th>\n",
       "      <th>NNE</th>\n",
       "      <th>NNW</th>\n",
       "      <th>NW</th>\n",
       "      <th>S</th>\n",
       "      <th>SE</th>\n",
       "      <th>SSE</th>\n",
       "      <th>SSW</th>\n",
       "      <th>SW</th>\n",
       "      <th>W</th>\n",
       "      <th>WNW</th>\n",
       "      <th>WSW</th>\n",
       "    </tr>\n",
       "  </thead>\n",
       "  <tbody>\n",
       "    <tr>\n",
       "      <th>0</th>\n",
       "      <td>0</td>\n",
       "      <td>0</td>\n",
       "      <td>0</td>\n",
       "      <td>0</td>\n",
       "      <td>0</td>\n",
       "      <td>1</td>\n",
       "      <td>0</td>\n",
       "      <td>0</td>\n",
       "      <td>0</td>\n",
       "      <td>0</td>\n",
       "      <td>0</td>\n",
       "      <td>0</td>\n",
       "      <td>0</td>\n",
       "      <td>0</td>\n",
       "      <td>0</td>\n",
       "    </tr>\n",
       "    <tr>\n",
       "      <th>1</th>\n",
       "      <td>0</td>\n",
       "      <td>0</td>\n",
       "      <td>1</td>\n",
       "      <td>0</td>\n",
       "      <td>0</td>\n",
       "      <td>0</td>\n",
       "      <td>0</td>\n",
       "      <td>0</td>\n",
       "      <td>0</td>\n",
       "      <td>0</td>\n",
       "      <td>0</td>\n",
       "      <td>0</td>\n",
       "      <td>0</td>\n",
       "      <td>0</td>\n",
       "      <td>0</td>\n",
       "    </tr>\n",
       "    <tr>\n",
       "      <th>2</th>\n",
       "      <td>0</td>\n",
       "      <td>0</td>\n",
       "      <td>0</td>\n",
       "      <td>0</td>\n",
       "      <td>0</td>\n",
       "      <td>1</td>\n",
       "      <td>0</td>\n",
       "      <td>0</td>\n",
       "      <td>0</td>\n",
       "      <td>0</td>\n",
       "      <td>0</td>\n",
       "      <td>0</td>\n",
       "      <td>0</td>\n",
       "      <td>0</td>\n",
       "      <td>0</td>\n",
       "    </tr>\n",
       "    <tr>\n",
       "      <th>3</th>\n",
       "      <td>0</td>\n",
       "      <td>0</td>\n",
       "      <td>0</td>\n",
       "      <td>0</td>\n",
       "      <td>0</td>\n",
       "      <td>0</td>\n",
       "      <td>1</td>\n",
       "      <td>0</td>\n",
       "      <td>0</td>\n",
       "      <td>0</td>\n",
       "      <td>0</td>\n",
       "      <td>0</td>\n",
       "      <td>0</td>\n",
       "      <td>0</td>\n",
       "      <td>0</td>\n",
       "    </tr>\n",
       "    <tr>\n",
       "      <th>4</th>\n",
       "      <td>0</td>\n",
       "      <td>0</td>\n",
       "      <td>1</td>\n",
       "      <td>0</td>\n",
       "      <td>0</td>\n",
       "      <td>0</td>\n",
       "      <td>0</td>\n",
       "      <td>0</td>\n",
       "      <td>0</td>\n",
       "      <td>0</td>\n",
       "      <td>0</td>\n",
       "      <td>0</td>\n",
       "      <td>0</td>\n",
       "      <td>0</td>\n",
       "      <td>0</td>\n",
       "    </tr>\n",
       "  </tbody>\n",
       "</table>\n",
       "</div>"
      ],
      "text/plain": [
       "   ENE  ESE  N  NE  NNE  NNW  NW  S  SE  SSE  SSW  SW  W  WNW  WSW\n",
       "0    0    0  0   0    0    1   0  0   0    0    0   0  0    0    0\n",
       "1    0    0  1   0    0    0   0  0   0    0    0   0  0    0    0\n",
       "2    0    0  0   0    0    1   0  0   0    0    0   0  0    0    0\n",
       "3    0    0  0   0    0    0   1  0   0    0    0   0  0    0    0\n",
       "4    0    0  1   0    0    0   0  0   0    0    0   0  0    0    0"
      ]
     },
     "execution_count": 7,
     "metadata": {},
     "output_type": "execute_result"
    }
   ],
   "source": [
    "factors = pd.get_dummies(df['wd'], drop_first=True)\n",
    "factors.head()"
   ]
  },
  {
   "cell_type": "code",
   "execution_count": 8,
   "id": "c9b80857",
   "metadata": {},
   "outputs": [
    {
     "data": {
      "text/html": [
       "<div>\n",
       "<style scoped>\n",
       "    .dataframe tbody tr th:only-of-type {\n",
       "        vertical-align: middle;\n",
       "    }\n",
       "\n",
       "    .dataframe tbody tr th {\n",
       "        vertical-align: top;\n",
       "    }\n",
       "\n",
       "    .dataframe thead th {\n",
       "        text-align: right;\n",
       "    }\n",
       "</style>\n",
       "<table border=\"1\" class=\"dataframe\">\n",
       "  <thead>\n",
       "    <tr style=\"text-align: right;\">\n",
       "      <th></th>\n",
       "      <th>No</th>\n",
       "      <th>year</th>\n",
       "      <th>month</th>\n",
       "      <th>day</th>\n",
       "      <th>hour</th>\n",
       "      <th>PM2.5</th>\n",
       "      <th>PM10</th>\n",
       "      <th>SO2</th>\n",
       "      <th>NO2</th>\n",
       "      <th>CO</th>\n",
       "      <th>...</th>\n",
       "      <th>NNW</th>\n",
       "      <th>NW</th>\n",
       "      <th>S</th>\n",
       "      <th>SE</th>\n",
       "      <th>SSE</th>\n",
       "      <th>SSW</th>\n",
       "      <th>SW</th>\n",
       "      <th>W</th>\n",
       "      <th>WNW</th>\n",
       "      <th>WSW</th>\n",
       "    </tr>\n",
       "  </thead>\n",
       "  <tbody>\n",
       "    <tr>\n",
       "      <th>0</th>\n",
       "      <td>1</td>\n",
       "      <td>2013</td>\n",
       "      <td>3</td>\n",
       "      <td>1</td>\n",
       "      <td>0</td>\n",
       "      <td>4.0</td>\n",
       "      <td>4.0</td>\n",
       "      <td>4.0</td>\n",
       "      <td>7.0</td>\n",
       "      <td>300.0</td>\n",
       "      <td>...</td>\n",
       "      <td>1</td>\n",
       "      <td>0</td>\n",
       "      <td>0</td>\n",
       "      <td>0</td>\n",
       "      <td>0</td>\n",
       "      <td>0</td>\n",
       "      <td>0</td>\n",
       "      <td>0</td>\n",
       "      <td>0</td>\n",
       "      <td>0</td>\n",
       "    </tr>\n",
       "    <tr>\n",
       "      <th>1</th>\n",
       "      <td>2</td>\n",
       "      <td>2013</td>\n",
       "      <td>3</td>\n",
       "      <td>1</td>\n",
       "      <td>1</td>\n",
       "      <td>8.0</td>\n",
       "      <td>8.0</td>\n",
       "      <td>4.0</td>\n",
       "      <td>7.0</td>\n",
       "      <td>300.0</td>\n",
       "      <td>...</td>\n",
       "      <td>0</td>\n",
       "      <td>0</td>\n",
       "      <td>0</td>\n",
       "      <td>0</td>\n",
       "      <td>0</td>\n",
       "      <td>0</td>\n",
       "      <td>0</td>\n",
       "      <td>0</td>\n",
       "      <td>0</td>\n",
       "      <td>0</td>\n",
       "    </tr>\n",
       "    <tr>\n",
       "      <th>2</th>\n",
       "      <td>3</td>\n",
       "      <td>2013</td>\n",
       "      <td>3</td>\n",
       "      <td>1</td>\n",
       "      <td>2</td>\n",
       "      <td>7.0</td>\n",
       "      <td>7.0</td>\n",
       "      <td>5.0</td>\n",
       "      <td>10.0</td>\n",
       "      <td>300.0</td>\n",
       "      <td>...</td>\n",
       "      <td>1</td>\n",
       "      <td>0</td>\n",
       "      <td>0</td>\n",
       "      <td>0</td>\n",
       "      <td>0</td>\n",
       "      <td>0</td>\n",
       "      <td>0</td>\n",
       "      <td>0</td>\n",
       "      <td>0</td>\n",
       "      <td>0</td>\n",
       "    </tr>\n",
       "    <tr>\n",
       "      <th>3</th>\n",
       "      <td>4</td>\n",
       "      <td>2013</td>\n",
       "      <td>3</td>\n",
       "      <td>1</td>\n",
       "      <td>3</td>\n",
       "      <td>6.0</td>\n",
       "      <td>6.0</td>\n",
       "      <td>11.0</td>\n",
       "      <td>11.0</td>\n",
       "      <td>300.0</td>\n",
       "      <td>...</td>\n",
       "      <td>0</td>\n",
       "      <td>1</td>\n",
       "      <td>0</td>\n",
       "      <td>0</td>\n",
       "      <td>0</td>\n",
       "      <td>0</td>\n",
       "      <td>0</td>\n",
       "      <td>0</td>\n",
       "      <td>0</td>\n",
       "      <td>0</td>\n",
       "    </tr>\n",
       "    <tr>\n",
       "      <th>4</th>\n",
       "      <td>5</td>\n",
       "      <td>2013</td>\n",
       "      <td>3</td>\n",
       "      <td>1</td>\n",
       "      <td>4</td>\n",
       "      <td>3.0</td>\n",
       "      <td>3.0</td>\n",
       "      <td>12.0</td>\n",
       "      <td>12.0</td>\n",
       "      <td>300.0</td>\n",
       "      <td>...</td>\n",
       "      <td>0</td>\n",
       "      <td>0</td>\n",
       "      <td>0</td>\n",
       "      <td>0</td>\n",
       "      <td>0</td>\n",
       "      <td>0</td>\n",
       "      <td>0</td>\n",
       "      <td>0</td>\n",
       "      <td>0</td>\n",
       "      <td>0</td>\n",
       "    </tr>\n",
       "  </tbody>\n",
       "</table>\n",
       "<p>5 rows × 31 columns</p>\n",
       "</div>"
      ],
      "text/plain": [
       "   No  year  month  day  hour  PM2.5  PM10   SO2   NO2     CO  ...  NNW  NW  \\\n",
       "0   1  2013      3    1     0    4.0   4.0   4.0   7.0  300.0  ...    1   0   \n",
       "1   2  2013      3    1     1    8.0   8.0   4.0   7.0  300.0  ...    0   0   \n",
       "2   3  2013      3    1     2    7.0   7.0   5.0  10.0  300.0  ...    1   0   \n",
       "3   4  2013      3    1     3    6.0   6.0  11.0  11.0  300.0  ...    0   1   \n",
       "4   5  2013      3    1     4    3.0   3.0  12.0  12.0  300.0  ...    0   0   \n",
       "\n",
       "   S  SE  SSE  SSW  SW  W  WNW  WSW  \n",
       "0  0   0    0    0   0  0    0    0  \n",
       "1  0   0    0    0   0  0    0    0  \n",
       "2  0   0    0    0   0  0    0    0  \n",
       "3  0   0    0    0   0  0    0    0  \n",
       "4  0   0    0    0   0  0    0    0  \n",
       "\n",
       "[5 rows x 31 columns]"
      ]
     },
     "execution_count": 8,
     "metadata": {},
     "output_type": "execute_result"
    }
   ],
   "source": [
    "df = df.drop('wd', axis=1)\n",
    "df = pd.concat([df, factors], axis=1)\n",
    "df.head()"
   ]
  },
  {
   "cell_type": "code",
   "execution_count": 9,
   "id": "ca15acf3",
   "metadata": {},
   "outputs": [
    {
     "data": {
      "text/plain": [
       "No         int64\n",
       "year       int64\n",
       "month      int64\n",
       "day        int64\n",
       "hour       int64\n",
       "PM2.5    float64\n",
       "PM10     float64\n",
       "SO2      float64\n",
       "NO2      float64\n",
       "CO       float64\n",
       "O3       float64\n",
       "TEMP     float64\n",
       "PRES     float64\n",
       "DEWP     float64\n",
       "RAIN     float64\n",
       "WSPM     float64\n",
       "ENE        uint8\n",
       "ESE        uint8\n",
       "N          uint8\n",
       "NE         uint8\n",
       "NNE        uint8\n",
       "NNW        uint8\n",
       "NW         uint8\n",
       "S          uint8\n",
       "SE         uint8\n",
       "SSE        uint8\n",
       "SSW        uint8\n",
       "SW         uint8\n",
       "W          uint8\n",
       "WNW        uint8\n",
       "WSW        uint8\n",
       "dtype: object"
      ]
     },
     "execution_count": 9,
     "metadata": {},
     "output_type": "execute_result"
    }
   ],
   "source": [
    "df.dtypes"
   ]
  },
  {
   "cell_type": "code",
   "execution_count": 10,
   "id": "b9b6d35a",
   "metadata": {},
   "outputs": [
    {
     "data": {
      "text/html": [
       "<div>\n",
       "<style scoped>\n",
       "    .dataframe tbody tr th:only-of-type {\n",
       "        vertical-align: middle;\n",
       "    }\n",
       "\n",
       "    .dataframe tbody tr th {\n",
       "        vertical-align: top;\n",
       "    }\n",
       "\n",
       "    .dataframe thead th {\n",
       "        text-align: right;\n",
       "    }\n",
       "</style>\n",
       "<table border=\"1\" class=\"dataframe\">\n",
       "  <thead>\n",
       "    <tr style=\"text-align: right;\">\n",
       "      <th></th>\n",
       "      <th>year</th>\n",
       "      <th>month</th>\n",
       "      <th>day</th>\n",
       "      <th>hour</th>\n",
       "      <th>PM2.5</th>\n",
       "      <th>PM10</th>\n",
       "      <th>SO2</th>\n",
       "      <th>NO2</th>\n",
       "      <th>CO</th>\n",
       "      <th>O3</th>\n",
       "      <th>...</th>\n",
       "      <th>NNW</th>\n",
       "      <th>NW</th>\n",
       "      <th>S</th>\n",
       "      <th>SE</th>\n",
       "      <th>SSE</th>\n",
       "      <th>SSW</th>\n",
       "      <th>SW</th>\n",
       "      <th>W</th>\n",
       "      <th>WNW</th>\n",
       "      <th>WSW</th>\n",
       "    </tr>\n",
       "  </thead>\n",
       "  <tbody>\n",
       "    <tr>\n",
       "      <th>0</th>\n",
       "      <td>2013</td>\n",
       "      <td>3</td>\n",
       "      <td>1</td>\n",
       "      <td>0</td>\n",
       "      <td>4.0</td>\n",
       "      <td>4.0</td>\n",
       "      <td>4.0</td>\n",
       "      <td>7.0</td>\n",
       "      <td>300.0</td>\n",
       "      <td>77.0</td>\n",
       "      <td>...</td>\n",
       "      <td>1</td>\n",
       "      <td>0</td>\n",
       "      <td>0</td>\n",
       "      <td>0</td>\n",
       "      <td>0</td>\n",
       "      <td>0</td>\n",
       "      <td>0</td>\n",
       "      <td>0</td>\n",
       "      <td>0</td>\n",
       "      <td>0</td>\n",
       "    </tr>\n",
       "    <tr>\n",
       "      <th>1</th>\n",
       "      <td>2013</td>\n",
       "      <td>3</td>\n",
       "      <td>1</td>\n",
       "      <td>1</td>\n",
       "      <td>8.0</td>\n",
       "      <td>8.0</td>\n",
       "      <td>4.0</td>\n",
       "      <td>7.0</td>\n",
       "      <td>300.0</td>\n",
       "      <td>77.0</td>\n",
       "      <td>...</td>\n",
       "      <td>0</td>\n",
       "      <td>0</td>\n",
       "      <td>0</td>\n",
       "      <td>0</td>\n",
       "      <td>0</td>\n",
       "      <td>0</td>\n",
       "      <td>0</td>\n",
       "      <td>0</td>\n",
       "      <td>0</td>\n",
       "      <td>0</td>\n",
       "    </tr>\n",
       "    <tr>\n",
       "      <th>2</th>\n",
       "      <td>2013</td>\n",
       "      <td>3</td>\n",
       "      <td>1</td>\n",
       "      <td>2</td>\n",
       "      <td>7.0</td>\n",
       "      <td>7.0</td>\n",
       "      <td>5.0</td>\n",
       "      <td>10.0</td>\n",
       "      <td>300.0</td>\n",
       "      <td>73.0</td>\n",
       "      <td>...</td>\n",
       "      <td>1</td>\n",
       "      <td>0</td>\n",
       "      <td>0</td>\n",
       "      <td>0</td>\n",
       "      <td>0</td>\n",
       "      <td>0</td>\n",
       "      <td>0</td>\n",
       "      <td>0</td>\n",
       "      <td>0</td>\n",
       "      <td>0</td>\n",
       "    </tr>\n",
       "    <tr>\n",
       "      <th>3</th>\n",
       "      <td>2013</td>\n",
       "      <td>3</td>\n",
       "      <td>1</td>\n",
       "      <td>3</td>\n",
       "      <td>6.0</td>\n",
       "      <td>6.0</td>\n",
       "      <td>11.0</td>\n",
       "      <td>11.0</td>\n",
       "      <td>300.0</td>\n",
       "      <td>72.0</td>\n",
       "      <td>...</td>\n",
       "      <td>0</td>\n",
       "      <td>1</td>\n",
       "      <td>0</td>\n",
       "      <td>0</td>\n",
       "      <td>0</td>\n",
       "      <td>0</td>\n",
       "      <td>0</td>\n",
       "      <td>0</td>\n",
       "      <td>0</td>\n",
       "      <td>0</td>\n",
       "    </tr>\n",
       "    <tr>\n",
       "      <th>4</th>\n",
       "      <td>2013</td>\n",
       "      <td>3</td>\n",
       "      <td>1</td>\n",
       "      <td>4</td>\n",
       "      <td>3.0</td>\n",
       "      <td>3.0</td>\n",
       "      <td>12.0</td>\n",
       "      <td>12.0</td>\n",
       "      <td>300.0</td>\n",
       "      <td>72.0</td>\n",
       "      <td>...</td>\n",
       "      <td>0</td>\n",
       "      <td>0</td>\n",
       "      <td>0</td>\n",
       "      <td>0</td>\n",
       "      <td>0</td>\n",
       "      <td>0</td>\n",
       "      <td>0</td>\n",
       "      <td>0</td>\n",
       "      <td>0</td>\n",
       "      <td>0</td>\n",
       "    </tr>\n",
       "  </tbody>\n",
       "</table>\n",
       "<p>5 rows × 30 columns</p>\n",
       "</div>"
      ],
      "text/plain": [
       "   year  month  day  hour  PM2.5  PM10   SO2   NO2     CO    O3  ...  NNW  NW  \\\n",
       "0  2013      3    1     0    4.0   4.0   4.0   7.0  300.0  77.0  ...    1   0   \n",
       "1  2013      3    1     1    8.0   8.0   4.0   7.0  300.0  77.0  ...    0   0   \n",
       "2  2013      3    1     2    7.0   7.0   5.0  10.0  300.0  73.0  ...    1   0   \n",
       "3  2013      3    1     3    6.0   6.0  11.0  11.0  300.0  72.0  ...    0   1   \n",
       "4  2013      3    1     4    3.0   3.0  12.0  12.0  300.0  72.0  ...    0   0   \n",
       "\n",
       "   S  SE  SSE  SSW  SW  W  WNW  WSW  \n",
       "0  0   0    0    0   0  0    0    0  \n",
       "1  0   0    0    0   0  0    0    0  \n",
       "2  0   0    0    0   0  0    0    0  \n",
       "3  0   0    0    0   0  0    0    0  \n",
       "4  0   0    0    0   0  0    0    0  \n",
       "\n",
       "[5 rows x 30 columns]"
      ]
     },
     "execution_count": 10,
     "metadata": {},
     "output_type": "execute_result"
    }
   ],
   "source": [
    "# drop No column as it is the row numbers\n",
    "df = df.drop('No', axis=1)\n",
    "df.head()"
   ]
  },
  {
   "cell_type": "markdown",
   "id": "71930bcc",
   "metadata": {},
   "source": [
    "### 4. Split the data using a 80/20 split"
   ]
  },
  {
   "cell_type": "code",
   "execution_count": 11,
   "id": "3c95d576",
   "metadata": {},
   "outputs": [
    {
     "data": {
      "text/plain": [
       "Index(['year', 'month', 'day', 'hour', 'PM2.5', 'PM10', 'SO2', 'NO2', 'CO',\n",
       "       'O3', 'TEMP', 'PRES', 'DEWP', 'RAIN', 'WSPM', 'ENE', 'ESE', 'N', 'NE',\n",
       "       'NNE', 'NNW', 'NW', 'S', 'SE', 'SSE', 'SSW', 'SW', 'W', 'WNW', 'WSW'],\n",
       "      dtype='object')"
      ]
     },
     "execution_count": 11,
     "metadata": {},
     "output_type": "execute_result"
    }
   ],
   "source": [
    "df.columns"
   ]
  },
  {
   "cell_type": "code",
   "execution_count": 12,
   "id": "f6c9f2d1",
   "metadata": {},
   "outputs": [],
   "source": [
    "# Get the features and the target variable\n",
    "X = df.drop('PM2.5', axis = 1)\n",
    "y = df['PM2.5']\n",
    "\n",
    "# split the data\n",
    "from sklearn.model_selection import train_test_split\n",
    "X_train, X_test, y_train, y_test = train_test_split(X, y, test_size=0.2, random_state = 21)"
   ]
  },
  {
   "cell_type": "markdown",
   "id": "36d043b6",
   "metadata": {},
   "source": [
    "### 5. Preprocess the data using Normalization"
   ]
  },
  {
   "cell_type": "code",
   "execution_count": 13,
   "id": "6aa5e734",
   "metadata": {},
   "outputs": [],
   "source": [
    "from sklearn.preprocessing import Normalizer\n",
    "\n",
    "normalizer = Normalizer()\n",
    "X_train= normalizer.fit_transform(X_train)\n",
    "X_test = normalizer.transform(X_test)"
   ]
  },
  {
   "cell_type": "markdown",
   "id": "1293ebcd",
   "metadata": {},
   "source": [
    "### 6. Build a neural network using Tensorflow"
   ]
  },
  {
   "cell_type": "code",
   "execution_count": 14,
   "id": "1072a1d8",
   "metadata": {},
   "outputs": [],
   "source": [
    "import tensorflow as tf\n",
    "from tensorflow import keras\n",
    "from tensorflow.keras import layers"
   ]
  },
  {
   "cell_type": "code",
   "execution_count": 15,
   "id": "f3399d51",
   "metadata": {},
   "outputs": [],
   "source": [
    "# Neuron network with 2 hidden layers of 20 and 10 neurons\n",
    "model1 = keras.Sequential(\n",
    "    [\n",
    "        layers.Dense(62, activation='relu'),\n",
    "        layers.Dense(20, activation='relu'),\n",
    "        layers.Dense(10, activation='relu'),\n",
    "        layers.Dense(1),\n",
    "    ]\n",
    ")"
   ]
  },
  {
   "cell_type": "code",
   "execution_count": 16,
   "id": "720e6ff5",
   "metadata": {},
   "outputs": [],
   "source": [
    "# Configure the model\n",
    "model1.compile(optimizer='adam', loss='mse')"
   ]
  },
  {
   "cell_type": "markdown",
   "id": "e8d2f4b3",
   "metadata": {},
   "source": [
    "Train the model"
   ]
  },
  {
   "cell_type": "code",
   "execution_count": 17,
   "id": "ccaaff6d",
   "metadata": {},
   "outputs": [
    {
     "name": "stdout",
     "output_type": "stream",
     "text": [
      "CPU times: total: 2h 6min 4s\n",
      "Wall time: 24min 56s\n"
     ]
    }
   ],
   "source": [
    "%%time\n",
    "#Fix the seed \n",
    "tf.random.set_seed(1)\n",
    "#Fit the model and save the results in history\n",
    "history = model1.fit(x=X_train,y=y_train,batch_size=64,epochs=100,\n",
    "          validation_data=(X_test,y_test), verbose=0\n",
    "          )"
   ]
  },
  {
   "cell_type": "code",
   "execution_count": 18,
   "id": "55a4f56f",
   "metadata": {},
   "outputs": [
    {
     "data": {
      "text/html": [
       "<div>\n",
       "<style scoped>\n",
       "    .dataframe tbody tr th:only-of-type {\n",
       "        vertical-align: middle;\n",
       "    }\n",
       "\n",
       "    .dataframe tbody tr th {\n",
       "        vertical-align: top;\n",
       "    }\n",
       "\n",
       "    .dataframe thead th {\n",
       "        text-align: right;\n",
       "    }\n",
       "</style>\n",
       "<table border=\"1\" class=\"dataframe\">\n",
       "  <thead>\n",
       "    <tr style=\"text-align: right;\">\n",
       "      <th></th>\n",
       "      <th>loss</th>\n",
       "      <th>val_loss</th>\n",
       "      <th>epoch</th>\n",
       "    </tr>\n",
       "  </thead>\n",
       "  <tbody>\n",
       "    <tr>\n",
       "      <th>95</th>\n",
       "      <td>484.930725</td>\n",
       "      <td>495.054871</td>\n",
       "      <td>95</td>\n",
       "    </tr>\n",
       "    <tr>\n",
       "      <th>96</th>\n",
       "      <td>484.155457</td>\n",
       "      <td>488.615234</td>\n",
       "      <td>96</td>\n",
       "    </tr>\n",
       "    <tr>\n",
       "      <th>97</th>\n",
       "      <td>483.457062</td>\n",
       "      <td>500.615265</td>\n",
       "      <td>97</td>\n",
       "    </tr>\n",
       "    <tr>\n",
       "      <th>98</th>\n",
       "      <td>483.519073</td>\n",
       "      <td>493.956940</td>\n",
       "      <td>98</td>\n",
       "    </tr>\n",
       "    <tr>\n",
       "      <th>99</th>\n",
       "      <td>483.979309</td>\n",
       "      <td>497.521851</td>\n",
       "      <td>99</td>\n",
       "    </tr>\n",
       "  </tbody>\n",
       "</table>\n",
       "</div>"
      ],
      "text/plain": [
       "          loss    val_loss  epoch\n",
       "95  484.930725  495.054871     95\n",
       "96  484.155457  488.615234     96\n",
       "97  483.457062  500.615265     97\n",
       "98  483.519073  493.956940     98\n",
       "99  483.979309  497.521851     99"
      ]
     },
     "execution_count": 18,
     "metadata": {},
     "output_type": "execute_result"
    }
   ],
   "source": [
    "#Convert the train and validation loss to a df\n",
    "trainhist = pd.DataFrame(history.history)\n",
    "#Add the epoch index\n",
    "trainhist['epoch'] = history.epoch\n",
    "#Look at the latest performance\n",
    "trainhist.tail()"
   ]
  },
  {
   "cell_type": "markdown",
   "id": "dfad5360",
   "metadata": {},
   "source": [
    "Visualize training and validation loss on same plot"
   ]
  },
  {
   "cell_type": "code",
   "execution_count": 19,
   "id": "ea2b20f5",
   "metadata": {},
   "outputs": [
    {
     "data": {
      "text/plain": [
       "<matplotlib.legend.Legend at 0x1d3521695a0>"
      ]
     },
     "execution_count": 19,
     "metadata": {},
     "output_type": "execute_result"
    },
    {
     "data": {
      "image/png": "[encoded data removed]",
      "text/plain": [
       "<Figure size 640x480 with 1 Axes>"
      ]
     },
     "metadata": {},
     "output_type": "display_data"
    }
   ],
   "source": [
    "import seaborn as sns\n",
    "import matplotlib.pyplot as plt\n",
    "#Plot train loss\n",
    "sns.lineplot(x='epoch', y ='loss', data =trainhist)\n",
    "#Plot validation loss\n",
    "sns.lineplot(x='epoch', y ='val_loss', data =trainhist)\n",
    "#Add legends\n",
    "plt.legend(labels=['train_loss', 'val_loss'])"
   ]
  },
  {
   "cell_type": "markdown",
   "id": "e496f5fa",
   "metadata": {},
   "source": [
    "### Does it overfit or underfit the data?\n",
    "The model is underfitting as the training and validation loss reduce dramatically at the beginning then continuously decrease with negative slope. The model does not converge."
   ]
  },
  {
   "cell_type": "markdown",
   "id": "af94cc2f",
   "metadata": {},
   "source": [
    "### 7. Tune the model using keras-tuner"
   ]
  },
  {
   "cell_type": "markdown",
   "id": "c85c49e3",
   "metadata": {},
   "source": [
    "Install/Import keras-tuner"
   ]
  },
  {
   "cell_type": "code",
   "execution_count": 20,
   "id": "2fbe1388",
   "metadata": {},
   "outputs": [],
   "source": [
    "import sys\n",
    "#Check the existence of the keras-tuner library\n",
    "if ( 'keras-tuner' not in sys.modules):\n",
    "    #If it was not installed, then install it\n",
    "    !pip install -q -U keras-tuner\n",
    "#Import the library of keras-tuner\n",
    "import keras_tuner as kt"
   ]
  },
  {
   "cell_type": "code",
   "execution_count": 21,
   "id": "18b72115",
   "metadata": {},
   "outputs": [],
   "source": [
    "def model_builder(hp):\n",
    "    model = keras.Sequential(\n",
    "        [\n",
    "            #Input layer\n",
    "            layers.Dense(62, activation='relu'),\n",
    "            #1st hidden layer\n",
    "            layers.Dense(units=hp.Int('units1', min_value=20, max_value=50, step=5), activation='relu'),\n",
    "            layers.Dropout(rate=hp.Float('rate1', min_value=0.2, max_value=0.8, step=0.1)),\n",
    "            # 2nd hidden layer\n",
    "            layers.Dense(units=hp.Int('units2', min_value=5, max_value=10, step=1), activation='relu'),\n",
    "            layers.Dropout(rate=hp.Float('rate2', min_value=0.2, max_value=0.8, step=0.1)),\n",
    "            # Output layer\n",
    "            layers.Dense(1),\n",
    "        ]\n",
    "    )\n",
    "    model.compile(optimizer='adam', loss='mse')\n",
    "    \n",
    "    return model"
   ]
  },
  {
   "cell_type": "code",
   "execution_count": 22,
   "id": "e501cb1b",
   "metadata": {},
   "outputs": [
    {
     "name": "stdout",
     "output_type": "stream",
     "text": [
      "Reloading Tuner from my_dir\\tuningRegression\\tuner0.json\n"
     ]
    }
   ],
   "source": [
    "tuner = kt.Hyperband(model_builder, #Specify the model\n",
    "                     objective = 'val_loss', #Specify the objective funciton\n",
    "                     max_epochs = 100, #Specify the maximum epochs\n",
    "                     directory = 'my_dir', #Specify the file path\n",
    "                     project_name = 'tuningRegression')"
   ]
  },
  {
   "cell_type": "code",
   "execution_count": 23,
   "id": "9528def9",
   "metadata": {},
   "outputs": [],
   "source": [
    "import IPython\n",
    "#Clear all the training outputs\n",
    "class ClearTrainingOutput(tf.keras.callbacks.Callback):\n",
    "  def on_train_end(*args, **kwargs):\n",
    "    IPython.display.clear_output(wait = True)"
   ]
  },
  {
   "cell_type": "code",
   "execution_count": 24,
   "id": "cfb8bf2b",
   "metadata": {},
   "outputs": [],
   "source": [
    "#Perform the search on the defined hyperparameter space by specifying the callback to clear the training outputs\n",
    "tuner.search(X_train, y_train, epochs = 100, validation_data = (X_test,y_test), callbacks = [ClearTrainingOutput()])"
   ]
  },
  {
   "cell_type": "code",
   "execution_count": 25,
   "id": "7a92775c",
   "metadata": {},
   "outputs": [
    {
     "name": "stdout",
     "output_type": "stream",
     "text": [
      "\n",
      "The optimal number of units in the first hidden layer =  50.\n",
      "The optimal droupout rate in the first hidden layer = 0.30000000000000004.\n",
      "The optimal number of units in the second hidden layer =  9.\n",
      "The optimal droupout rate in the second hidden layer = 0.30000000000000004\n",
      "\n"
     ]
    }
   ],
   "source": [
    "# Get the optimal hyperparameters\n",
    "best_hps = tuner.get_best_hyperparameters(num_trials = 1)[0]\n",
    "\n",
    "print(f\"\"\"\n",
    "The optimal number of units in the first hidden layer =  {best_hps.get('units1')}.\n",
    "The optimal droupout rate in the first hidden layer = {best_hps.get('rate1')}.\n",
    "The optimal number of units in the second hidden layer =  {best_hps.get('units2')}.\n",
    "The optimal droupout rate in the second hidden layer = {best_hps.get('rate2')}\n",
    "\"\"\")"
   ]
  },
  {
   "cell_type": "markdown",
   "id": "4feefd28",
   "metadata": {},
   "source": [
    "### 8. Build a neural network using PyTorch"
   ]
  },
  {
   "cell_type": "code",
   "execution_count": 26,
   "id": "04479fd3",
   "metadata": {},
   "outputs": [],
   "source": [
    "import torch\n",
    "import torch.nn as nn\n",
    "import torch.nn.functional as F\n",
    "import numpy as np"
   ]
  },
  {
   "cell_type": "code",
   "execution_count": 27,
   "id": "eab39f65",
   "metadata": {},
   "outputs": [],
   "source": [
    "X_train = torch.tensor(X_train.astype(np.float32))\n",
    "y_train = torch.tensor(y_train.values.astype(np.float32).reshape(-1,1))"
   ]
  },
  {
   "cell_type": "code",
   "execution_count": 28,
   "id": "0821ab10",
   "metadata": {},
   "outputs": [
    {
     "name": "stdout",
     "output_type": "stream",
     "text": [
      "29\n",
      "1\n"
     ]
    }
   ],
   "source": [
    "input_size = X_train.shape[1]\n",
    "output_size = y_train.shape[1]\n",
    "#specify the number of neuron for the first layer\n",
    "hidden_size = [62, 20, 10]\n",
    "print(input_size)\n",
    "print(output_size)\n",
    "\n",
    "#convert numpy to tensor from_numpy\n",
    "X_test = torch.from_numpy(X_test.astype(np.float32))"
   ]
  },
  {
   "cell_type": "code",
   "execution_count": 29,
   "id": "4c666ec4",
   "metadata": {},
   "outputs": [],
   "source": [
    "# define the child module class derivated from parent class of torch.nn.Module)\n",
    "class LinearRegressionModel(torch.nn.Module):\n",
    "    #define the constructor\n",
    "    def __init__(self, input_size,  hidden_size, output_size):\n",
    "        super(LinearRegressionModel, self).__init__()\n",
    "        self.hidden1 = torch.nn.Linear(input_size, hidden_size[0]) \n",
    "        self.hidden2 = torch.nn.Linear(hidden_size[0], hidden_size[1]) \n",
    "        self.hidden3 = torch.nn.Linear(hidden_size[1], hidden_size[2]) \n",
    "        self.predict = torch.nn.Linear(hidden_size[2], output_size)  \n",
    "    #overife the forward function in this child class\n",
    "    def forward(self, x):\n",
    "        x = F.relu(self.hidden1(x))  \n",
    "        x = F.relu(self.hidden2(x))\n",
    "        x = F.relu(self.hidden3(x))\n",
    "        y_pred = self.predict(x)            \n",
    "        return y_pred"
   ]
  },
  {
   "cell_type": "code",
   "execution_count": 30,
   "id": "8e174ca9",
   "metadata": {},
   "outputs": [],
   "source": [
    "model = LinearRegressionModel(input_size, hidden_size, output_size)"
   ]
  },
  {
   "cell_type": "code",
   "execution_count": 31,
   "id": "8b3d8cd4",
   "metadata": {},
   "outputs": [],
   "source": [
    "l = nn.MSELoss()"
   ]
  },
  {
   "cell_type": "code",
   "execution_count": 32,
   "id": "8bec6a40",
   "metadata": {},
   "outputs": [
    {
     "name": "stderr",
     "output_type": "stream",
     "text": [
      "C:\\Users\\MRT\\anaconda3\\lib\\site-packages\\torch\\cuda\\__init__.py:749: UserWarning: CUDA initialization: The NVIDIA driver on your system is too old (found version 11070). Please update your GPU driver by downloading and installing a new version from the URL: http://www.nvidia.com/Download/index.aspx Alternatively, go to: https://pytorch.org to install a PyTorch version that has been compiled with your version of the CUDA driver. (Triggered internally at C:\\cb\\pytorch_1000000000000\\work\\c10\\cuda\\CUDAFunctions.cpp:108.)\n",
      "  return torch._C._cuda_getDeviceCount() if nvml_count < 0 else nvml_count\n"
     ]
    }
   ],
   "source": [
    "optimizer = torch.optim.Adam(model.parameters(), lr=0.05)"
   ]
  },
  {
   "cell_type": "code",
   "execution_count": 33,
   "id": "173117a1",
   "metadata": {},
   "outputs": [
    {
     "name": "stdout",
     "output_type": "stream",
     "text": [
      "epoch 0, loss = 12765.7520 and val_loss = 12706.2932\n",
      "epoch 10, loss = 7512.1255 and val_loss = 6407.6172\n",
      "epoch 20, loss = 5931.8179 and val_loss = 5925.2196\n",
      "epoch 30, loss = 4404.6167 and val_loss = 4143.3927\n",
      "epoch 40, loss = 2497.9434 and val_loss = 2335.3029\n",
      "epoch 50, loss = 2128.7642 and val_loss = 2120.0066\n",
      "epoch 60, loss = 1926.8889 and val_loss = 1897.5020\n",
      "epoch 70, loss = 1802.0082 and val_loss = 1784.4904\n",
      "epoch 80, loss = 1646.8148 and val_loss = 1634.2230\n",
      "epoch 90, loss = 1501.7601 and val_loss = 1483.4226\n",
      "CPU times: total: 3min 27s\n",
      "Wall time: 37.1 s\n"
     ]
    }
   ],
   "source": [
    "%%time\n",
    "from sklearn.metrics import mean_squared_error\n",
    "#fix the random seeds for troch and np\n",
    "torch.manual_seed(1)\n",
    "np.random.seed(0)\n",
    "\n",
    "\n",
    "#set the number of epochs\n",
    "\n",
    "num_epochs = 100\n",
    "\n",
    "train_loss = [None]*num_epochs\n",
    "valadition_loss = [None]*num_epochs\n",
    "for epoch in range(num_epochs):\n",
    "    #forward pass\n",
    "    y_pred = model(X_train.requires_grad_())\n",
    "\n",
    "    #calculate the loss\n",
    "    loss= l(y_pred, y_train)\n",
    "    #Set the gradients to be zero\n",
    "    optimizer.zero_grad()\n",
    "    \n",
    "    #backward pass: calculate gradients\n",
    "    loss.backward()\n",
    "\n",
    "    #update the weights\n",
    "    optimizer.step()\n",
    "        \n",
    "    #Stop tracking the gradient by calling detach since we don't use it anymore\n",
    "    y_pred = model(X_test).detach().numpy()\n",
    "    val_loss = mean_squared_error(y_test,y_pred)\n",
    "    train_loss[epoch] = loss.item()\n",
    "    valadition_loss[epoch] = val_loss\n",
    "    if epoch % 10 == 0:\n",
    "        print('epoch {0}, loss = {1:.4f} and val_loss = {2:.4f}'.format(epoch, loss.item(), val_loss))\n",
    "    "
   ]
  },
  {
   "cell_type": "code",
   "execution_count": 34,
   "id": "d3631693",
   "metadata": {},
   "outputs": [
    {
     "data": {
      "text/html": [
       "<div>\n",
       "<style scoped>\n",
       "    .dataframe tbody tr th:only-of-type {\n",
       "        vertical-align: middle;\n",
       "    }\n",
       "\n",
       "    .dataframe tbody tr th {\n",
       "        vertical-align: top;\n",
       "    }\n",
       "\n",
       "    .dataframe thead th {\n",
       "        text-align: right;\n",
       "    }\n",
       "</style>\n",
       "<table border=\"1\" class=\"dataframe\">\n",
       "  <thead>\n",
       "    <tr style=\"text-align: right;\">\n",
       "      <th></th>\n",
       "      <th>train_loss</th>\n",
       "      <th>val_loss</th>\n",
       "      <th>epoch</th>\n",
       "    </tr>\n",
       "  </thead>\n",
       "  <tbody>\n",
       "    <tr>\n",
       "      <th>95</th>\n",
       "      <td>1420.345459</td>\n",
       "      <td>1401.393755</td>\n",
       "      <td>95</td>\n",
       "    </tr>\n",
       "    <tr>\n",
       "      <th>96</th>\n",
       "      <td>1401.385742</td>\n",
       "      <td>1384.075928</td>\n",
       "      <td>96</td>\n",
       "    </tr>\n",
       "    <tr>\n",
       "      <th>97</th>\n",
       "      <td>1383.111328</td>\n",
       "      <td>1363.907079</td>\n",
       "      <td>97</td>\n",
       "    </tr>\n",
       "    <tr>\n",
       "      <th>98</th>\n",
       "      <td>1362.808472</td>\n",
       "      <td>1344.368145</td>\n",
       "      <td>98</td>\n",
       "    </tr>\n",
       "    <tr>\n",
       "      <th>99</th>\n",
       "      <td>1343.412231</td>\n",
       "      <td>1324.602531</td>\n",
       "      <td>99</td>\n",
       "    </tr>\n",
       "  </tbody>\n",
       "</table>\n",
       "</div>"
      ],
      "text/plain": [
       "     train_loss     val_loss  epoch\n",
       "95  1420.345459  1401.393755     95\n",
       "96  1401.385742  1384.075928     96\n",
       "97  1383.111328  1363.907079     97\n",
       "98  1362.808472  1344.368145     98\n",
       "99  1343.412231  1324.602531     99"
      ]
     },
     "execution_count": 34,
     "metadata": {},
     "output_type": "execute_result"
    }
   ],
   "source": [
    "#Convert the train and validation loss to a df\n",
    "trainhist = pd.DataFrame({'train_loss': train_loss, 'val_loss': valadition_loss, 'epoch':np.arange(num_epochs)})\n",
    "#Look at the latest performance\n",
    "trainhist.tail()"
   ]
  },
  {
   "cell_type": "code",
   "execution_count": 35,
   "id": "a6ac2875",
   "metadata": {},
   "outputs": [
    {
     "data": {
      "text/plain": [
       "<matplotlib.legend.Legend at 0x1d340deabc0>"
      ]
     },
     "execution_count": 35,
     "metadata": {},
     "output_type": "execute_result"
    },
    {
     "data": {
      "image/png": "[encoded data removed]",
      "text/plain": [
       "<Figure size 640x480 with 1 Axes>"
      ]
     },
     "metadata": {},
     "output_type": "display_data"
    }
   ],
   "source": [
    "import matplotlib.pyplot as plt\n",
    "#Plot train loss\n",
    "sns.lineplot(x='epoch', y ='train_loss', data =trainhist)\n",
    "#Plot validation loss\n",
    "sns.lineplot(x='epoch', y ='val_loss', data =trainhist)\n",
    "#Add legends\n",
    "plt.legend(labels=['train_loss', 'val_loss'])"
   ]
  },
  {
   "cell_type": "markdown",
   "id": "095d7d3d",
   "metadata": {},
   "source": [
    "###  Does it overfit or underfit the data?\n",
    "It underfits the data as the training and validation loss reduce dramatically at the beginning then continuously decrease with negative slope. The model does not converge."
   ]
  }
 ],
 "metadata": {
  "kernelspec": {
   "display_name": "Python 3 (ipykernel)",
   "language": "python",
   "name": "python3"
  },
  "language_info": {
   "codemirror_mode": {
    "name": "ipython",
    "version": 3
   },
   "file_extension": ".py",
   "mimetype": "text/x-python",
   "name": "python",
   "nbconvert_exporter": "python",
   "pygments_lexer": "ipython3",
   "version": "3.10.9"
  }
 },
 "nbformat": 4,
 "nbformat_minor": 5
}
