{
 "cells": [
  {
   "cell_type": "markdown",
   "id": "33a5d306",
   "metadata": {},
   "source": [
    "## 1. Load Dataset into Memory"
   ]
  },
  {
   "cell_type": "code",
   "execution_count": 1,
   "id": "a3322237",
   "metadata": {},
   "outputs": [],
   "source": [
    "import pandas as pd\n",
    "from sklearn import preprocessing\n",
    "import re\n",
    "from sklearn.model_selection import train_test_split\n",
    "import tensorflow as tf\n",
    "import numpy as np\n",
    "import seaborn as sns\n",
    "import pandas as pd\n",
    "import matplotlib.pyplot as plt"
   ]
  },
  {
   "cell_type": "code",
   "execution_count": 2,
   "id": "135cb073",
   "metadata": {},
   "outputs": [],
   "source": [
    "file_path = 'C:\\\\Users\\\\MRT\\\\OneDrive\\\\Documents\\\\MastersDs\\\\DeepLearning\\\\Projects\\\\Womens_Clothing_E-Commerce_Reviews.csv'\n",
    "reviews = pd.read_csv(file_path)"
   ]
  },
  {
   "cell_type": "code",
   "execution_count": 3,
   "id": "b5bef71d",
   "metadata": {},
   "outputs": [
    {
     "data": {
      "text/html": [
       "<div>\n",
       "<style scoped>\n",
       "    .dataframe tbody tr th:only-of-type {\n",
       "        vertical-align: middle;\n",
       "    }\n",
       "\n",
       "    .dataframe tbody tr th {\n",
       "        vertical-align: top;\n",
       "    }\n",
       "\n",
       "    .dataframe thead th {\n",
       "        text-align: right;\n",
       "    }\n",
       "</style>\n",
       "<table border=\"1\" class=\"dataframe\">\n",
       "  <thead>\n",
       "    <tr style=\"text-align: right;\">\n",
       "      <th></th>\n",
       "      <th>Unnamed: 0</th>\n",
       "      <th>Clothing ID</th>\n",
       "      <th>Age</th>\n",
       "      <th>Title</th>\n",
       "      <th>Review Text</th>\n",
       "      <th>Rating</th>\n",
       "      <th>Recommended IND</th>\n",
       "      <th>Positive Feedback Count</th>\n",
       "      <th>Division Name</th>\n",
       "      <th>Department Name</th>\n",
       "      <th>Class Name</th>\n",
       "    </tr>\n",
       "  </thead>\n",
       "  <tbody>\n",
       "    <tr>\n",
       "      <th>0</th>\n",
       "      <td>0</td>\n",
       "      <td>767</td>\n",
       "      <td>33</td>\n",
       "      <td>NaN</td>\n",
       "      <td>Absolutely wonderful - silky and sexy and comf...</td>\n",
       "      <td>4</td>\n",
       "      <td>1</td>\n",
       "      <td>0</td>\n",
       "      <td>Initmates</td>\n",
       "      <td>Intimate</td>\n",
       "      <td>Intimates</td>\n",
       "    </tr>\n",
       "    <tr>\n",
       "      <th>1</th>\n",
       "      <td>1</td>\n",
       "      <td>1080</td>\n",
       "      <td>34</td>\n",
       "      <td>NaN</td>\n",
       "      <td>Love this dress!  it's sooo pretty.  i happene...</td>\n",
       "      <td>5</td>\n",
       "      <td>1</td>\n",
       "      <td>4</td>\n",
       "      <td>General</td>\n",
       "      <td>Dresses</td>\n",
       "      <td>Dresses</td>\n",
       "    </tr>\n",
       "    <tr>\n",
       "      <th>2</th>\n",
       "      <td>2</td>\n",
       "      <td>1077</td>\n",
       "      <td>60</td>\n",
       "      <td>Some major design flaws</td>\n",
       "      <td>I had such high hopes for this dress and reall...</td>\n",
       "      <td>3</td>\n",
       "      <td>0</td>\n",
       "      <td>0</td>\n",
       "      <td>General</td>\n",
       "      <td>Dresses</td>\n",
       "      <td>Dresses</td>\n",
       "    </tr>\n",
       "    <tr>\n",
       "      <th>3</th>\n",
       "      <td>3</td>\n",
       "      <td>1049</td>\n",
       "      <td>50</td>\n",
       "      <td>My favorite buy!</td>\n",
       "      <td>I love, love, love this jumpsuit. it's fun, fl...</td>\n",
       "      <td>5</td>\n",
       "      <td>1</td>\n",
       "      <td>0</td>\n",
       "      <td>General Petite</td>\n",
       "      <td>Bottoms</td>\n",
       "      <td>Pants</td>\n",
       "    </tr>\n",
       "    <tr>\n",
       "      <th>4</th>\n",
       "      <td>4</td>\n",
       "      <td>847</td>\n",
       "      <td>47</td>\n",
       "      <td>Flattering shirt</td>\n",
       "      <td>This shirt is very flattering to all due to th...</td>\n",
       "      <td>5</td>\n",
       "      <td>1</td>\n",
       "      <td>6</td>\n",
       "      <td>General</td>\n",
       "      <td>Tops</td>\n",
       "      <td>Blouses</td>\n",
       "    </tr>\n",
       "  </tbody>\n",
       "</table>\n",
       "</div>"
      ],
      "text/plain": [
       "   Unnamed: 0  Clothing ID  Age                    Title  \\\n",
       "0           0          767   33                      NaN   \n",
       "1           1         1080   34                      NaN   \n",
       "2           2         1077   60  Some major design flaws   \n",
       "3           3         1049   50         My favorite buy!   \n",
       "4           4          847   47         Flattering shirt   \n",
       "\n",
       "                                         Review Text  Rating  Recommended IND  \\\n",
       "0  Absolutely wonderful - silky and sexy and comf...       4                1   \n",
       "1  Love this dress!  it's sooo pretty.  i happene...       5                1   \n",
       "2  I had such high hopes for this dress and reall...       3                0   \n",
       "3  I love, love, love this jumpsuit. it's fun, fl...       5                1   \n",
       "4  This shirt is very flattering to all due to th...       5                1   \n",
       "\n",
       "   Positive Feedback Count   Division Name Department Name Class Name  \n",
       "0                        0       Initmates        Intimate  Intimates  \n",
       "1                        4         General         Dresses    Dresses  \n",
       "2                        0         General         Dresses    Dresses  \n",
       "3                        0  General Petite         Bottoms      Pants  \n",
       "4                        6         General            Tops    Blouses  "
      ]
     },
     "execution_count": 3,
     "metadata": {},
     "output_type": "execute_result"
    }
   ],
   "source": [
    "reviews.head()"
   ]
  },
  {
   "cell_type": "code",
   "execution_count": 4,
   "id": "eeebd4b2",
   "metadata": {},
   "outputs": [
    {
     "data": {
      "text/plain": [
       "Index(['Unnamed: 0', 'Clothing ID', 'Age', 'Title', 'Review Text', 'Rating',\n",
       "       'Recommended IND', 'Positive Feedback Count', 'Division Name',\n",
       "       'Department Name', 'Class Name'],\n",
       "      dtype='object')"
      ]
     },
     "execution_count": 4,
     "metadata": {},
     "output_type": "execute_result"
    }
   ],
   "source": [
    "reviews.columns"
   ]
  },
  {
   "cell_type": "code",
   "execution_count": 5,
   "id": "82835802",
   "metadata": {},
   "outputs": [],
   "source": [
    "del reviews['Unnamed: 0']"
   ]
  },
  {
   "cell_type": "code",
   "execution_count": 6,
   "id": "71de0716",
   "metadata": {
    "scrolled": true
   },
   "outputs": [
    {
     "data": {
      "text/plain": [
       "Index(['Clothing ID', 'Age', 'Title', 'Review Text', 'Rating',\n",
       "       'Recommended IND', 'Positive Feedback Count', 'Division Name',\n",
       "       'Department Name', 'Class Name'],\n",
       "      dtype='object')"
      ]
     },
     "execution_count": 6,
     "metadata": {},
     "output_type": "execute_result"
    }
   ],
   "source": [
    "reviews.columns"
   ]
  },
  {
   "cell_type": "markdown",
   "id": "5a9a5c27",
   "metadata": {},
   "source": [
    "## 2. Concatenate the Title, Review Text, Division Name, Department Name, and Class Name as a new feature of Reviews."
   ]
  },
  {
   "cell_type": "code",
   "execution_count": 7,
   "id": "e2c5eaf4",
   "metadata": {},
   "outputs": [],
   "source": [
    "reviews['Title'] = reviews['Title'].fillna('')\n",
    "reviews['Review Text'] = reviews['Review Text'].fillna('')\n",
    "reviews['Division Name'] = reviews['Division Name'].fillna('')\n",
    "reviews['Department Name'] = reviews['Department Name'].fillna('')\n",
    "reviews['Class Name'] = reviews['Class Name'].fillna('')"
   ]
  },
  {
   "cell_type": "code",
   "execution_count": 8,
   "id": "81804787",
   "metadata": {},
   "outputs": [
    {
     "data": {
      "text/plain": [
       "Index(['Clothing ID', 'Age', 'Title', 'Review Text', 'Rating',\n",
       "       'Recommended IND', 'Positive Feedback Count', 'Division Name',\n",
       "       'Department Name', 'Class Name', 'Review'],\n",
       "      dtype='object')"
      ]
     },
     "execution_count": 8,
     "metadata": {},
     "output_type": "execute_result"
    }
   ],
   "source": [
    "reviews['Review'] = reviews[['Title', 'Review Text', 'Division Name', 'Department Name',\n",
    "                               'Class Name']].apply(' '.join, axis=1)\n",
    "reviews.columns"
   ]
  },
  {
   "cell_type": "code",
   "execution_count": 9,
   "id": "f59b147b",
   "metadata": {},
   "outputs": [],
   "source": [
    "drop_columns = ['Title', 'Review Text', 'Division Name', 'Department Name', 'Class Name']\n",
    "\n",
    "reviews = reviews.drop(drop_columns, axis=1)"
   ]
  },
  {
   "cell_type": "code",
   "execution_count": 10,
   "id": "6592b70b",
   "metadata": {},
   "outputs": [
    {
     "data": {
      "text/plain": [
       "Index(['Clothing ID', 'Age', 'Rating', 'Recommended IND',\n",
       "       'Positive Feedback Count', 'Review'],\n",
       "      dtype='object')"
      ]
     },
     "execution_count": 10,
     "metadata": {},
     "output_type": "execute_result"
    }
   ],
   "source": [
    "reviews.columns"
   ]
  },
  {
   "cell_type": "markdown",
   "id": "954470d8",
   "metadata": {},
   "source": [
    "## 3. Clean the new feature of reviews using regular expressions"
   ]
  },
  {
   "cell_type": "code",
   "execution_count": 11,
   "id": "f658cd48",
   "metadata": {},
   "outputs": [],
   "source": [
    "# Remove all special characters, punctuation and spaces\n",
    "reviews['Review'] = reviews['Review'].apply(lambda x: re.sub(r'[^A-Za-z0-9]+',' ',x))\n",
    "# Replace special characters,<br />,  in the file\n",
    "reviews['Review'] = reviews['Review'].apply(lambda x: re.sub(r\"<br />\", \" \", x))\n",
    "# Remove length <=2\n",
    "reviews['Review'] = reviews['Review'].apply(lambda x: re.sub(r'\\b[a-zA-Z]{1,2}\\b', '', x))"
   ]
  },
  {
   "cell_type": "code",
   "execution_count": 12,
   "id": "c0cef27b",
   "metadata": {},
   "outputs": [
    {
     "data": {
      "text/html": [
       "<div>\n",
       "<style scoped>\n",
       "    .dataframe tbody tr th:only-of-type {\n",
       "        vertical-align: middle;\n",
       "    }\n",
       "\n",
       "    .dataframe tbody tr th {\n",
       "        vertical-align: top;\n",
       "    }\n",
       "\n",
       "    .dataframe thead th {\n",
       "        text-align: right;\n",
       "    }\n",
       "</style>\n",
       "<table border=\"1\" class=\"dataframe\">\n",
       "  <thead>\n",
       "    <tr style=\"text-align: right;\">\n",
       "      <th></th>\n",
       "      <th>Clothing ID</th>\n",
       "      <th>Age</th>\n",
       "      <th>Rating</th>\n",
       "      <th>Recommended IND</th>\n",
       "      <th>Positive Feedback Count</th>\n",
       "      <th>Review</th>\n",
       "    </tr>\n",
       "  </thead>\n",
       "  <tbody>\n",
       "    <tr>\n",
       "      <th>0</th>\n",
       "      <td>767</td>\n",
       "      <td>33</td>\n",
       "      <td>4</td>\n",
       "      <td>1</td>\n",
       "      <td>0</td>\n",
       "      <td>Absolutely wonderful silky and sexy and comfo...</td>\n",
       "    </tr>\n",
       "    <tr>\n",
       "      <th>1</th>\n",
       "      <td>1080</td>\n",
       "      <td>34</td>\n",
       "      <td>5</td>\n",
       "      <td>1</td>\n",
       "      <td>4</td>\n",
       "      <td>Love this dress   sooo pretty  happened  find...</td>\n",
       "    </tr>\n",
       "    <tr>\n",
       "      <th>2</th>\n",
       "      <td>1077</td>\n",
       "      <td>60</td>\n",
       "      <td>3</td>\n",
       "      <td>0</td>\n",
       "      <td>0</td>\n",
       "      <td>Some major design flaws  had such high hopes f...</td>\n",
       "    </tr>\n",
       "    <tr>\n",
       "      <th>3</th>\n",
       "      <td>1049</td>\n",
       "      <td>50</td>\n",
       "      <td>5</td>\n",
       "      <td>1</td>\n",
       "      <td>0</td>\n",
       "      <td>favorite buy  love love love this jumpsuit   ...</td>\n",
       "    </tr>\n",
       "    <tr>\n",
       "      <th>4</th>\n",
       "      <td>847</td>\n",
       "      <td>47</td>\n",
       "      <td>5</td>\n",
       "      <td>1</td>\n",
       "      <td>6</td>\n",
       "      <td>Flattering shirt This shirt  very flattering  ...</td>\n",
       "    </tr>\n",
       "  </tbody>\n",
       "</table>\n",
       "</div>"
      ],
      "text/plain": [
       "   Clothing ID  Age  Rating  Recommended IND  Positive Feedback Count  \\\n",
       "0          767   33       4                1                        0   \n",
       "1         1080   34       5                1                        4   \n",
       "2         1077   60       3                0                        0   \n",
       "3         1049   50       5                1                        0   \n",
       "4          847   47       5                1                        6   \n",
       "\n",
       "                                              Review  \n",
       "0   Absolutely wonderful silky and sexy and comfo...  \n",
       "1   Love this dress   sooo pretty  happened  find...  \n",
       "2  Some major design flaws  had such high hopes f...  \n",
       "3   favorite buy  love love love this jumpsuit   ...  \n",
       "4  Flattering shirt This shirt  very flattering  ...  "
      ]
     },
     "execution_count": 12,
     "metadata": {},
     "output_type": "execute_result"
    }
   ],
   "source": [
    "reviews.head()"
   ]
  },
  {
   "cell_type": "markdown",
   "id": "47ecab14",
   "metadata": {},
   "source": [
    "## 4. Build an RNN model to forecast the Recommended IND based on Reviews using TensorFlow"
   ]
  },
  {
   "cell_type": "code",
   "execution_count": 13,
   "id": "712586e5",
   "metadata": {},
   "outputs": [],
   "source": [
    "X = reviews['Review'].values\n",
    "y = reviews['Recommended IND'].values\n",
    "X_train, X_test, y_train, y_test = train_test_split(X, y, stratify=y, test_size=0.2)"
   ]
  },
  {
   "cell_type": "code",
   "execution_count": 14,
   "id": "698aeac7",
   "metadata": {},
   "outputs": [
    {
     "name": "stdout",
     "output_type": "stream",
     "text": [
      "X_train size  =(18788,); X_test size  =(4698,)\n"
     ]
    }
   ],
   "source": [
    "print(f'X_train size  ={X_train.shape}; X_test size  ={X_test.shape}')"
   ]
  },
  {
   "cell_type": "code",
   "execution_count": 15,
   "id": "4b82dac1",
   "metadata": {},
   "outputs": [],
   "source": [
    "# Specify the vocab size\n",
    "VOCAB_SIZE = 1000\n",
    "# Perform textvectorization\n",
    "encoder = tf.keras.layers.experimental.preprocessing.TextVectorization(\n",
    "    max_tokens=VOCAB_SIZE)\n",
    "\n",
    "# Fits the state of the preprocessing layer to the dataset.\n",
    "encoder.adapt(X_train)"
   ]
  },
  {
   "cell_type": "code",
   "execution_count": 16,
   "id": "c20f31d2",
   "metadata": {},
   "outputs": [
    {
     "data": {
      "text/plain": [
       "array(['', '[UNK]', 'the', 'and', 'this', 'general', 'but', 'for',\n",
       "       'dresses', 'with', 'was', 'dress', 'tops', 'love', 'not', 'petite',\n",
       "       'that', 'size', 'very', 'top'], dtype='<U13')"
      ]
     },
     "execution_count": 16,
     "metadata": {},
     "output_type": "execute_result"
    }
   ],
   "source": [
    "vocab = np.array(encoder.get_vocabulary())\n",
    "vocab[:20]"
   ]
  },
  {
   "cell_type": "code",
   "execution_count": 17,
   "id": "f15ec24d",
   "metadata": {},
   "outputs": [],
   "source": [
    "model = tf.keras.Sequential([\n",
    "    # Convert review text to indices\n",
    "    encoder, \n",
    "    tf.keras.layers.Embedding(\n",
    "        input_dim=len(encoder.get_vocabulary()),\n",
    "        output_dim=65,\n",
    "        # Use masking to handle the variable sequence lengths\n",
    "        mask_zero=True),\n",
    "    # \n",
    "    tf.keras.layers.GRU(130, return_sequences=True),\n",
    "    tf.keras.layers.Bidirectional(tf.keras.layers.LSTM(128)),\n",
    "    # Binary classifier\n",
    "    tf.keras.layers.Dense(65, activation='relu'),\n",
    "    tf.keras.layers.Dense(1)\n",
    "])"
   ]
  },
  {
   "cell_type": "code",
   "execution_count": 18,
   "id": "7be17ab5",
   "metadata": {},
   "outputs": [],
   "source": [
    "model.compile(loss=tf.keras.losses.BinaryCrossentropy(from_logits=True),\n",
    "              optimizer=tf.keras.optimizers.Adam(1e-4),\n",
    "              metrics=['accuracy'])"
   ]
  },
  {
   "cell_type": "code",
   "execution_count": 19,
   "id": "ded25819",
   "metadata": {},
   "outputs": [
    {
     "name": "stdout",
     "output_type": "stream",
     "text": [
      "Epoch 1/5\n",
      "588/588 [==============================] - 304s 462ms/step - loss: 0.3499 - accuracy: 0.8075 - val_loss: 0.2376 - val_accuracy: 0.8936\n",
      "Epoch 2/5\n",
      "588/588 [==============================] - 261s 444ms/step - loss: 0.2097 - accuracy: 0.9099 - val_loss: 0.2219 - val_accuracy: 0.8985\n",
      "Epoch 3/5\n",
      "588/588 [==============================] - 268s 456ms/step - loss: 0.1940 - accuracy: 0.9182 - val_loss: 0.2251 - val_accuracy: 0.8957\n",
      "Epoch 4/5\n",
      "588/588 [==============================] - 259s 441ms/step - loss: 0.1881 - accuracy: 0.9201 - val_loss: 0.2232 - val_accuracy: 0.9051\n",
      "Epoch 5/5\n",
      "588/588 [==============================] - 264s 449ms/step - loss: 0.1843 - accuracy: 0.9217 - val_loss: 0.2273 - val_accuracy: 0.9044\n",
      "CPU times: total: 2h 12min 56s\n",
      "Wall time: 22min 36s\n"
     ]
    }
   ],
   "source": [
    "%%time\n",
    "history = model.fit(x=X_train,y=y_train,batch_size= 32,epochs=5,\n",
    "          validation_data=(X_test,y_test), verbose= 1\n",
    "          )"
   ]
  },
  {
   "cell_type": "markdown",
   "id": "d1460ab0",
   "metadata": {},
   "source": [
    "## 5. Evaluate the model and check the model fit"
   ]
  },
  {
   "cell_type": "code",
   "execution_count": 20,
   "id": "5f7361c2",
   "metadata": {},
   "outputs": [
    {
     "data": {
      "text/plain": [
       "<matplotlib.legend.Legend at 0x1f18ccb31f0>"
      ]
     },
     "execution_count": 20,
     "metadata": {},
     "output_type": "execute_result"
    },
    {
     "data": {
      "image/png": "[encoded data removed]",
      "text/plain": [
       "<Figure size 640x480 with 1 Axes>"
      ]
     },
     "metadata": {},
     "output_type": "display_data"
    }
   ],
   "source": [
    "train_history = pd.DataFrame(history.history)\n",
    "train_history['epoch'] = history.epoch\n",
    "# Plot train loss\n",
    "sns.lineplot(x='epoch', y ='loss', data =train_history)\n",
    "# Plot validation loss\n",
    "sns.lineplot(x='epoch', y ='val_loss', data =train_history)\n",
    "# Add legends\n",
    "plt.legend(labels=['train_loss', 'val_loss'])"
   ]
  },
  {
   "cell_type": "code",
   "execution_count": 21,
   "id": "3ae1702d",
   "metadata": {},
   "outputs": [
    {
     "data": {
      "text/plain": [
       "<matplotlib.legend.Legend at 0x1f188d07880>"
      ]
     },
     "execution_count": 21,
     "metadata": {},
     "output_type": "execute_result"
    },
    {
     "data": {
      "image/png": "[encoded data removed]",
      "text/plain": [
       "<Figure size 640x480 with 1 Axes>"
      ]
     },
     "metadata": {},
     "output_type": "display_data"
    }
   ],
   "source": [
    "sns.lineplot(x='epoch', y ='accuracy', data =train_history)\n",
    "# Plot validation loss\n",
    "sns.lineplot(x='epoch', y ='val_accuracy', data =train_history)\n",
    "# Add legends\n",
    "plt.legend(labels=['train_accuracy', 'val_accuracy'])"
   ]
  },
  {
   "cell_type": "code",
   "execution_count": 22,
   "id": "30c05a17",
   "metadata": {},
   "outputs": [
    {
     "name": "stdout",
     "output_type": "stream",
     "text": [
      "147/147 [==============================] - 30s 119ms/step\n"
     ]
    }
   ],
   "source": [
    "# the cutoff probability is 50%\n",
    "y_pred = (model.predict(X_test)> 0.5).astype(int)"
   ]
  },
  {
   "cell_type": "code",
   "execution_count": 23,
   "id": "35a5506f",
   "metadata": {},
   "outputs": [
    {
     "data": {
      "text/plain": [
       "array([[ 623,  212],\n",
       "       [ 237, 3626]], dtype=int64)"
      ]
     },
     "execution_count": 23,
     "metadata": {},
     "output_type": "execute_result"
    }
   ],
   "source": [
    "from sklearn.metrics import confusion_matrix\n",
    "confusion_matrix(y_test, y_pred)"
   ]
  },
  {
   "cell_type": "code",
   "execution_count": 24,
   "id": "f2d3b8a4",
   "metadata": {},
   "outputs": [
    {
     "name": "stdout",
     "output_type": "stream",
     "text": [
      "              precision    recall  f1-score   support\n",
      "\n",
      "           0       0.72      0.75      0.74       835\n",
      "           1       0.94      0.94      0.94      3863\n",
      "\n",
      "    accuracy                           0.90      4698\n",
      "   macro avg       0.83      0.84      0.84      4698\n",
      "weighted avg       0.91      0.90      0.90      4698\n",
      "\n"
     ]
    }
   ],
   "source": [
    "from sklearn.metrics import classification_report\n",
    "print(classification_report(y_test, y_pred))"
   ]
  },
  {
   "cell_type": "code",
   "execution_count": 25,
   "id": "70102176",
   "metadata": {
    "scrolled": true
   },
   "outputs": [
    {
     "data": {
      "text/plain": [
       "1    19314\n",
       "0     4172\n",
       "Name: Recommended IND, dtype: int64"
      ]
     },
     "execution_count": 25,
     "metadata": {},
     "output_type": "execute_result"
    }
   ],
   "source": [
    "reviews['Recommended IND'].value_counts()"
   ]
  },
  {
   "cell_type": "code",
   "execution_count": 26,
   "id": "78a56ae3",
   "metadata": {},
   "outputs": [
    {
     "data": {
      "image/png": "[encoded data removed]",
      "text/plain": [
       "<Figure size 640x480 with 1 Axes>"
      ]
     },
     "metadata": {},
     "output_type": "display_data"
    }
   ],
   "source": [
    "from sklearn.metrics import RocCurveDisplay\n",
    "rnn_disp = RocCurveDisplay.from_predictions(y_test, y_pred, pos_label =1)"
   ]
  },
  {
   "cell_type": "markdown",
   "id": "d5efadfd",
   "metadata": {},
   "source": [
    "## Do you recommend this model?\n",
    "No I do not recommend this model as it does not learn the data enough, this can be seen from the RocCurve and the precision, recall, and f1 score of the Recommended IND of class 0. This could be as a result of the dataset being imbalanced as well."
   ]
  }
 ],
 "metadata": {
  "kernelspec": {
   "display_name": "Python 3 (ipykernel)",
   "language": "python",
   "name": "python3"
  },
  "language_info": {
   "codemirror_mode": {
    "name": "ipython",
    "version": 3
   },
   "file_extension": ".py",
   "mimetype": "text/x-python",
   "name": "python",
   "nbconvert_exporter": "python",
   "pygments_lexer": "ipython3",
   "version": "3.10.9"
  }
 },
 "nbformat": 4,
 "nbformat_minor": 5
}
